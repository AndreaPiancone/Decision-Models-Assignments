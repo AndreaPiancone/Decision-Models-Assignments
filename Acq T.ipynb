{
 "cells": [
  {
   "cell_type": "code",
   "execution_count": 1,
   "metadata": {},
   "outputs": [],
   "source": [
    "import json\n",
    "import datetime\n",
    "import time\n",
    "import TwitchMiner as TM"
   ]
  },
  {
   "cell_type": "code",
   "execution_count": 2,
   "metadata": {},
   "outputs": [],
   "source": [
    "with open('Credenziali.json') as f:\n",
    "    d = json.load(f)\n",
    "    url = d['url']\n",
    "    headers = d['headers']"
   ]
  },
  {
   "cell_type": "code",
   "execution_count": null,
   "metadata": {},
   "outputs": [
    {
     "name": "stdout",
     "output_type": "stream",
     "text": [
      "ok 2020-07-01 14:29:49.618391\n",
      "ok 2020-07-01 14:30:50.052953\n",
      "ok 2020-07-01 14:31:50.547252\n",
      "ok 2020-07-01 14:32:50.928241\n",
      "ok 2020-07-01 14:33:51.488511\n",
      "ok 2020-07-01 14:34:51.867636\n",
      "ok 2020-07-01 14:35:52.325664\n",
      "ohoh qualcosa è andato storto! 2020-07-01 14:36:52.328998\n",
      "ok 2020-07-01 14:37:52.842487\n",
      "ok 2020-07-01 14:38:53.076783\n",
      "ok 2020-07-01 14:39:53.582449\n",
      "ok 2020-07-01 14:40:53.972066\n",
      "ok 2020-07-01 14:41:54.226532\n",
      "ok 2020-07-01 14:42:55.135829\n",
      "ok 2020-07-01 14:43:55.623939\n"
     ]
    }
   ],
   "source": [
    "lista = []\n",
    "while True:\n",
    "    try:\n",
    "        game_list = TM.get_top_games(url, headers)\n",
    "        lista.append(game_list)\n",
    "        print('ok' + \" \" + str(datetime.datetime.now()))\n",
    "        time.sleep(60)\n",
    "    except:\n",
    "        print('ohoh qualcosa è andato storto!' + \" \" + str(datetime.datetime.now()))\n",
    "        time.sleep(60) #se si verifca qualche errore il ciclo non si rompe e dopo 60 secondi si effettua una nuova chiamata.\n",
    "        continue"
   ]
  },
  {
   "cell_type": "code",
   "execution_count": null,
   "metadata": {},
   "outputs": [],
   "source": [
    "# Si scrive il file json con i dati raccolti\n",
    "\n",
    "with open(r'C:\\Users\\39331\\Desktop\\prova4.json', 'w') as outfile:\n",
    "    json.dump(lista, outfile)"
   ]
  },
  {
   "cell_type": "code",
   "execution_count": null,
   "metadata": {},
   "outputs": [],
   "source": [
    "#si legge il file json dei dati raccolti\n",
    "\n",
    "with open(r'C:\\Users\\39331\\Desktop\\prova4.json') as f:\n",
    "    dati = json.load(f)"
   ]
  },
  {
   "cell_type": "code",
   "execution_count": null,
   "metadata": {},
   "outputs": [],
   "source": [
    "#trasformazione....\n",
    "\n",
    "lista_2 = []\n",
    "for game_list in dati:\n",
    "    game_list = TM.del_not_games(game_list)\n",
    "    game_list = TM.add_ranking(game_list)\n",
    "    game_list = TM.flatten_json(game_list)\n",
    "    lista_2.append(game_list)"
   ]
  },
  {
   "cell_type": "code",
   "execution_count": null,
   "metadata": {},
   "outputs": [],
   "source": []
  }
 ],
 "metadata": {
  "kernelspec": {
   "display_name": "Python 3",
   "language": "python",
   "name": "python3"
  },
  "language_info": {
   "codemirror_mode": {
    "name": "ipython",
    "version": 3
   },
   "file_extension": ".py",
   "mimetype": "text/x-python",
   "name": "python",
   "nbconvert_exporter": "python",
   "pygments_lexer": "ipython3",
   "version": "3.7.4"
  }
 },
 "nbformat": 4,
 "nbformat_minor": 2
}
